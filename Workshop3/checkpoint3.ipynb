{
 "cells": [
  {
   "cell_type": "code",
   "execution_count": 27,
   "metadata": {},
   "outputs": [],
   "source": [
    "import pandas as pd, matplotlib.pyplot, scipy.stats\n",
    "import numpy as np"
   ]
  },
  {
   "cell_type": "code",
   "execution_count": 2,
   "metadata": {},
   "outputs": [
    {
     "data": {
      "text/html": [
       "<div>\n",
       "<style scoped>\n",
       "    .dataframe tbody tr th:only-of-type {\n",
       "        vertical-align: middle;\n",
       "    }\n",
       "\n",
       "    .dataframe tbody tr th {\n",
       "        vertical-align: top;\n",
       "    }\n",
       "\n",
       "    .dataframe thead th {\n",
       "        text-align: right;\n",
       "    }\n",
       "</style>\n",
       "<table border=\"1\" class=\"dataframe\">\n",
       "  <thead>\n",
       "    <tr style=\"text-align: right;\">\n",
       "      <th></th>\n",
       "      <th>ID</th>\n",
       "      <th>AdmissionLengthDays</th>\n",
       "      <th>Death_1</th>\n",
       "      <th>Admission_Type</th>\n",
       "      <th>Insurance_Type</th>\n",
       "      <th>EnglishLanguage_1</th>\n",
       "      <th>Religion_Type</th>\n",
       "      <th>Married_1</th>\n",
       "      <th>Race</th>\n",
       "      <th>Dx</th>\n",
       "    </tr>\n",
       "  </thead>\n",
       "  <tbody>\n",
       "    <tr>\n",
       "      <td>0</td>\n",
       "      <td>42862</td>\n",
       "      <td>4.277778</td>\n",
       "      <td>0</td>\n",
       "      <td>elective</td>\n",
       "      <td>private</td>\n",
       "      <td>1</td>\n",
       "      <td>episcopalian</td>\n",
       "      <td>1</td>\n",
       "      <td>white</td>\n",
       "      <td>mitral stenosis\\mitral valve replacement /sda</td>\n",
       "    </tr>\n",
       "    <tr>\n",
       "      <td>1</td>\n",
       "      <td>5967</td>\n",
       "      <td>26.122917</td>\n",
       "      <td>0</td>\n",
       "      <td>elective</td>\n",
       "      <td>private</td>\n",
       "      <td>0</td>\n",
       "      <td>catholic</td>\n",
       "      <td>1</td>\n",
       "      <td>white</td>\n",
       "      <td>duodenal mass/sda</td>\n",
       "    </tr>\n",
       "    <tr>\n",
       "      <td>2</td>\n",
       "      <td>50952</td>\n",
       "      <td>7.028472</td>\n",
       "      <td>1</td>\n",
       "      <td>emergency</td>\n",
       "      <td>medicare</td>\n",
       "      <td>1</td>\n",
       "      <td>catholic</td>\n",
       "      <td>0</td>\n",
       "      <td>asian - japanese</td>\n",
       "      <td>? serotonin syndrome</td>\n",
       "    </tr>\n",
       "    <tr>\n",
       "      <td>3</td>\n",
       "      <td>17138</td>\n",
       "      <td>34.187500</td>\n",
       "      <td>0</td>\n",
       "      <td>elective</td>\n",
       "      <td>medicare</td>\n",
       "      <td>1</td>\n",
       "      <td>catholic</td>\n",
       "      <td>1</td>\n",
       "      <td>white</td>\n",
       "      <td>abdominal aortic aneurysm/sda</td>\n",
       "    </tr>\n",
       "    <tr>\n",
       "      <td>4</td>\n",
       "      <td>27703</td>\n",
       "      <td>6.165972</td>\n",
       "      <td>0</td>\n",
       "      <td>elective</td>\n",
       "      <td>government</td>\n",
       "      <td>0</td>\n",
       "      <td>protestant quaker</td>\n",
       "      <td>0</td>\n",
       "      <td>black/african american</td>\n",
       "      <td>absence/sda</td>\n",
       "    </tr>\n",
       "    <tr>\n",
       "      <td>...</td>\n",
       "      <td>...</td>\n",
       "      <td>...</td>\n",
       "      <td>...</td>\n",
       "      <td>...</td>\n",
       "      <td>...</td>\n",
       "      <td>...</td>\n",
       "      <td>...</td>\n",
       "      <td>...</td>\n",
       "      <td>...</td>\n",
       "      <td>...</td>\n",
       "    </tr>\n",
       "    <tr>\n",
       "      <td>58858</td>\n",
       "      <td>42349</td>\n",
       "      <td>12.177083</td>\n",
       "      <td>0</td>\n",
       "      <td>elective</td>\n",
       "      <td>medicare</td>\n",
       "      <td>1</td>\n",
       "      <td>catholic</td>\n",
       "      <td>1</td>\n",
       "      <td>white</td>\n",
       "      <td>zenker's diverticulum/sda</td>\n",
       "    </tr>\n",
       "    <tr>\n",
       "      <td>58859</td>\n",
       "      <td>57461</td>\n",
       "      <td>10.613889</td>\n",
       "      <td>0</td>\n",
       "      <td>elective</td>\n",
       "      <td>medicare</td>\n",
       "      <td>1</td>\n",
       "      <td>catholic</td>\n",
       "      <td>0</td>\n",
       "      <td>white</td>\n",
       "      <td>zenker's diverticulum/sda</td>\n",
       "    </tr>\n",
       "    <tr>\n",
       "      <td>58860</td>\n",
       "      <td>11800</td>\n",
       "      <td>1.095139</td>\n",
       "      <td>0</td>\n",
       "      <td>emergency</td>\n",
       "      <td>private</td>\n",
       "      <td>0</td>\n",
       "      <td>unobtainable</td>\n",
       "      <td>0</td>\n",
       "      <td>white</td>\n",
       "      <td>zone 2 neck injury</td>\n",
       "    </tr>\n",
       "    <tr>\n",
       "      <td>58861</td>\n",
       "      <td>54574</td>\n",
       "      <td>2.925000</td>\n",
       "      <td>0</td>\n",
       "      <td>emergency</td>\n",
       "      <td>medicare</td>\n",
       "      <td>1</td>\n",
       "      <td>not specified</td>\n",
       "      <td>0</td>\n",
       "      <td>black/african american</td>\n",
       "      <td>zoster vs. meningitis</td>\n",
       "    </tr>\n",
       "    <tr>\n",
       "      <td>58862</td>\n",
       "      <td>29394</td>\n",
       "      <td>2.851389</td>\n",
       "      <td>0</td>\n",
       "      <td>emergency</td>\n",
       "      <td>private</td>\n",
       "      <td>1</td>\n",
       "      <td>unobtainable</td>\n",
       "      <td>0</td>\n",
       "      <td>white</td>\n",
       "      <td>zygomatic fracture left</td>\n",
       "    </tr>\n",
       "  </tbody>\n",
       "</table>\n",
       "<p>58863 rows × 10 columns</p>\n",
       "</div>"
      ],
      "text/plain": [
       "          ID  AdmissionLengthDays  Death_1 Admission_Type Insurance_Type  \\\n",
       "0      42862             4.277778        0       elective        private   \n",
       "1       5967            26.122917        0       elective        private   \n",
       "2      50952             7.028472        1      emergency       medicare   \n",
       "3      17138            34.187500        0       elective       medicare   \n",
       "4      27703             6.165972        0       elective     government   \n",
       "...      ...                  ...      ...            ...            ...   \n",
       "58858  42349            12.177083        0       elective       medicare   \n",
       "58859  57461            10.613889        0       elective       medicare   \n",
       "58860  11800             1.095139        0      emergency        private   \n",
       "58861  54574             2.925000        0      emergency       medicare   \n",
       "58862  29394             2.851389        0      emergency        private   \n",
       "\n",
       "       EnglishLanguage_1      Religion_Type  Married_1  \\\n",
       "0                      1       episcopalian          1   \n",
       "1                      0           catholic          1   \n",
       "2                      1           catholic          0   \n",
       "3                      1           catholic          1   \n",
       "4                      0  protestant quaker          0   \n",
       "...                  ...                ...        ...   \n",
       "58858                  1           catholic          1   \n",
       "58859                  1           catholic          0   \n",
       "58860                  0       unobtainable          0   \n",
       "58861                  1      not specified          0   \n",
       "58862                  1       unobtainable          0   \n",
       "\n",
       "                         Race                                               Dx  \n",
       "0                       white    mitral stenosis\\mitral valve replacement /sda  \n",
       "1                       white                                duodenal mass/sda  \n",
       "2            asian - japanese                             ? serotonin syndrome  \n",
       "3                       white                    abdominal aortic aneurysm/sda  \n",
       "4      black/african american                                      absence/sda  \n",
       "...                       ...                                              ...  \n",
       "58858                   white                        zenker's diverticulum/sda  \n",
       "58859                   white                        zenker's diverticulum/sda  \n",
       "58860                   white                               zone 2 neck injury  \n",
       "58861  black/african american                            zoster vs. meningitis  \n",
       "58862                   white                          zygomatic fracture left  \n",
       "\n",
       "[58863 rows x 10 columns]"
      ]
     },
     "execution_count": 2,
     "metadata": {},
     "output_type": "execute_result"
    }
   ],
   "source": [
    "fu = pd.read_csv(\"HospitalAdmissionsData.csv\")\n",
    "fu"
   ]
  },
  {
   "cell_type": "code",
   "execution_count": 3,
   "metadata": {},
   "outputs": [
    {
     "data": {
      "text/plain": [
       "Index(['ID', 'AdmissionLengthDays', 'Death_1', 'Admission_Type',\n",
       "       'Insurance_Type', 'EnglishLanguage_1', 'Religion_Type', 'Married_1',\n",
       "       'Race', 'Dx'],\n",
       "      dtype='object')"
      ]
     },
     "execution_count": 3,
     "metadata": {},
     "output_type": "execute_result"
    }
   ],
   "source": [
    "#column headers\n",
    "fu.columns"
   ]
  },
  {
   "cell_type": "code",
   "execution_count": 4,
   "metadata": {},
   "outputs": [
    {
     "data": {
      "text/plain": [
       "ID                       int64\n",
       "AdmissionLengthDays    float64\n",
       "Death_1                  int64\n",
       "Admission_Type          object\n",
       "Insurance_Type          object\n",
       "EnglishLanguage_1        int64\n",
       "Religion_Type           object\n",
       "Married_1                int64\n",
       "Race                    object\n",
       "Dx                      object\n",
       "dtype: object"
      ]
     },
     "execution_count": 4,
     "metadata": {},
     "output_type": "execute_result"
    }
   ],
   "source": [
    "#features\n",
    "#int: 4\n",
    "#float: 1\n",
    "fu.dtypes"
   ]
  },
  {
   "cell_type": "code",
   "execution_count": 5,
   "metadata": {},
   "outputs": [],
   "source": [
    "#Features that are objects\n",
    "#Admission Type, Insurance Type, Religion Type, Race, Dx"
   ]
  },
  {
   "cell_type": "code",
   "execution_count": 6,
   "metadata": {},
   "outputs": [
    {
     "data": {
      "text/plain": [
       "array(['elective', 'emergency', 'urgent', 'newborn'], dtype=object)"
      ]
     },
     "execution_count": 6,
     "metadata": {},
     "output_type": "execute_result"
    }
   ],
   "source": [
    "#Possible values for insurance type\n",
    "#elective, emergency, urgent, newborn\n",
    "fu[\"Admission_Type\"].unique()"
   ]
  },
  {
   "cell_type": "code",
   "execution_count": 7,
   "metadata": {},
   "outputs": [
    {
     "data": {
      "text/plain": [
       "count    58863.000000\n",
       "mean        10.138978\n",
       "std         12.465611\n",
       "min         -0.945139\n",
       "25%          3.743056\n",
       "50%          6.465972\n",
       "75%         11.798264\n",
       "max        294.660417\n",
       "Name: AdmissionLengthDays, dtype: float64"
      ]
     },
     "execution_count": 7,
     "metadata": {},
     "output_type": "execute_result"
    }
   ],
   "source": [
    "fu[\"AdmissionLengthDays\"].describe()"
   ]
  },
  {
   "cell_type": "code",
   "execution_count": 8,
   "metadata": {},
   "outputs": [
    {
     "name": "stdout",
     "output_type": "stream",
     "text": [
      "count    58863.000000\n",
      "mean     29508.211984\n",
      "std      17026.189024\n",
      "min          1.000000\n",
      "25%      14762.500000\n",
      "50%      29523.000000\n",
      "75%      44254.500000\n",
      "max      58976.000000\n",
      "Name: ID, dtype: float64\n",
      "count    58863.000000\n",
      "mean        10.138978\n",
      "std         12.465611\n",
      "min         -0.945139\n",
      "25%          3.743056\n",
      "50%          6.465972\n",
      "75%         11.798264\n",
      "max        294.660417\n",
      "Name: AdmissionLengthDays, dtype: float64\n",
      "count    58863.000000\n",
      "mean         0.099417\n",
      "std          0.299224\n",
      "min          0.000000\n",
      "25%          0.000000\n",
      "50%          0.000000\n",
      "75%          0.000000\n",
      "max          1.000000\n",
      "Name: Death_1, dtype: float64\n",
      "count         58863\n",
      "unique            4\n",
      "top       emergency\n",
      "freq          41987\n",
      "Name: Admission_Type, dtype: object\n",
      "count        58863\n",
      "unique           5\n",
      "top       medicare\n",
      "freq         28157\n",
      "Name: Insurance_Type, dtype: object\n",
      "count    58863.000000\n",
      "mean         0.571072\n",
      "std          0.494927\n",
      "min          0.000000\n",
      "25%          0.000000\n",
      "50%          1.000000\n",
      "75%          1.000000\n",
      "max          1.000000\n",
      "Name: EnglishLanguage_1, dtype: float64\n",
      "count        58408\n",
      "unique          20\n",
      "top       catholic\n",
      "freq         20561\n",
      "Name: Religion_Type, dtype: object\n",
      "count    58863.000000\n",
      "mean         0.410665\n",
      "std          0.491959\n",
      "min          0.000000\n",
      "25%          0.000000\n",
      "50%          0.000000\n",
      "75%          1.000000\n",
      "max          1.000000\n",
      "Name: Married_1, dtype: float64\n",
      "count     58863\n",
      "unique       41\n",
      "top       white\n",
      "freq      40927\n",
      "Name: Race, dtype: object\n",
      "count       58863\n",
      "unique      15647\n",
      "top       newborn\n",
      "freq         7823\n",
      "Name: Dx, dtype: object\n"
     ]
    }
   ],
   "source": [
    "#most common admission type: emergency\n",
    "#most common insurance type: medicare\n",
    "#most common religion type: catholic \n",
    "#most common race: white\n",
    "#most common diagnosis: newborn\n",
    "for col in fu.columns:\n",
    "    print(fu[col].describe())"
   ]
  },
  {
   "cell_type": "code",
   "execution_count": 9,
   "metadata": {},
   "outputs": [
    {
     "data": {
      "text/plain": [
       "Text(0.5, 1.0, ' Frequencey of Admission Length ')"
      ]
     },
     "execution_count": 9,
     "metadata": {},
     "output_type": "execute_result"
    },
    {
     "data": {
      "image/png": "[encoded data removed]",
      "text/plain": [
       "<Figure size 432x288 with 1 Axes>"
      ]
     },
     "metadata": {
      "needs_background": "light"
     },
     "output_type": "display_data"
    }
   ],
   "source": [
    "ax =fu[\"AdmissionLengthDays\"].plot.hist(bins=10)\n",
    "ax.set_xlabel(\"Length (Days)\")\n",
    "ax.set_title(\" Frequencey of Admission Length \")\n"
   ]
  },
  {
   "cell_type": "code",
   "execution_count": 10,
   "metadata": {},
   "outputs": [
    {
     "data": {
      "image/png": "[encoded data removed]",
      "text/plain": [
       "<Figure size 432x288 with 1 Axes>"
      ]
     },
     "metadata": {
      "needs_background": "light"
     },
     "output_type": "display_data"
    }
   ],
   "source": [
    "ax =fu[\"AdmissionLengthDays\"].plot.hist(bins=10)\n",
    "ax.set_xlabel(\"Length (Days)\")\n",
    "ax.set_title(\" Frequencey of Admission Length \")\n",
    "ax.set_yscale('log')\n",
    "#data is compressed into a smaller range"
   ]
  },
  {
   "cell_type": "code",
   "execution_count": 11,
   "metadata": {},
   "outputs": [
    {
     "data": {
      "image/png": "[encoded data removed]",
      "text/plain": [
       "<Figure size 432x288 with 1 Axes>"
      ]
     },
     "metadata": {
      "needs_background": "light"
     },
     "output_type": "display_data"
    }
   ],
   "source": [
    "ax =fu.plot(x=\"AdmissionLengthDays\", y=\"Death_1\", style='o')\n",
    "ax.set_title(\"Deaths vs Admission Length\")\n",
    "ax.set_xlabel(\"Admission Length (Days)\")\n",
    "ax.set_ylabel(\"Deaths\")\n",
    "ax.legend().remove()"
   ]
  },
  {
   "cell_type": "code",
   "execution_count": 12,
   "metadata": {},
   "outputs": [
    {
     "data": {
      "text/plain": [
       "Death_1\n",
       "0    10.140012\n",
       "1    10.129606\n",
       "Name: AdmissionLengthDays, dtype: float64"
      ]
     },
     "execution_count": 12,
     "metadata": {},
     "output_type": "execute_result"
    }
   ],
   "source": [
    "fu.groupby(\"Death_1\")[\"AdmissionLengthDays\"].mean()"
   ]
  },
  {
   "cell_type": "code",
   "execution_count": 13,
   "metadata": {},
   "outputs": [
    {
     "data": {
      "text/html": [
       "<div>\n",
       "<style scoped>\n",
       "    .dataframe tbody tr th:only-of-type {\n",
       "        vertical-align: middle;\n",
       "    }\n",
       "\n",
       "    .dataframe tbody tr th {\n",
       "        vertical-align: top;\n",
       "    }\n",
       "\n",
       "    .dataframe thead th {\n",
       "        text-align: right;\n",
       "    }\n",
       "</style>\n",
       "<table border=\"1\" class=\"dataframe\">\n",
       "  <thead>\n",
       "    <tr style=\"text-align: right;\">\n",
       "      <th></th>\n",
       "      <th>count</th>\n",
       "      <th>mean</th>\n",
       "      <th>std</th>\n",
       "      <th>min</th>\n",
       "      <th>25%</th>\n",
       "      <th>50%</th>\n",
       "      <th>75%</th>\n",
       "      <th>max</th>\n",
       "    </tr>\n",
       "    <tr>\n",
       "      <th>Insurance_Type</th>\n",
       "      <th></th>\n",
       "      <th></th>\n",
       "      <th></th>\n",
       "      <th></th>\n",
       "      <th></th>\n",
       "      <th></th>\n",
       "      <th></th>\n",
       "      <th></th>\n",
       "    </tr>\n",
       "  </thead>\n",
       "  <tbody>\n",
       "    <tr>\n",
       "      <td>government</td>\n",
       "      <td>1781.0</td>\n",
       "      <td>0.050533</td>\n",
       "      <td>0.219104</td>\n",
       "      <td>0.0</td>\n",
       "      <td>0.0</td>\n",
       "      <td>0.0</td>\n",
       "      <td>0.0</td>\n",
       "      <td>1.0</td>\n",
       "    </tr>\n",
       "    <tr>\n",
       "      <td>medicaid</td>\n",
       "      <td>5781.0</td>\n",
       "      <td>0.065906</td>\n",
       "      <td>0.248138</td>\n",
       "      <td>0.0</td>\n",
       "      <td>0.0</td>\n",
       "      <td>0.0</td>\n",
       "      <td>0.0</td>\n",
       "      <td>1.0</td>\n",
       "    </tr>\n",
       "    <tr>\n",
       "      <td>medicare</td>\n",
       "      <td>28157.0</td>\n",
       "      <td>0.138651</td>\n",
       "      <td>0.345588</td>\n",
       "      <td>0.0</td>\n",
       "      <td>0.0</td>\n",
       "      <td>0.0</td>\n",
       "      <td>0.0</td>\n",
       "      <td>1.0</td>\n",
       "    </tr>\n",
       "    <tr>\n",
       "      <td>private</td>\n",
       "      <td>22534.0</td>\n",
       "      <td>0.061330</td>\n",
       "      <td>0.239939</td>\n",
       "      <td>0.0</td>\n",
       "      <td>0.0</td>\n",
       "      <td>0.0</td>\n",
       "      <td>0.0</td>\n",
       "      <td>1.0</td>\n",
       "    </tr>\n",
       "    <tr>\n",
       "      <td>self pay</td>\n",
       "      <td>610.0</td>\n",
       "      <td>0.155738</td>\n",
       "      <td>0.362904</td>\n",
       "      <td>0.0</td>\n",
       "      <td>0.0</td>\n",
       "      <td>0.0</td>\n",
       "      <td>0.0</td>\n",
       "      <td>1.0</td>\n",
       "    </tr>\n",
       "  </tbody>\n",
       "</table>\n",
       "</div>"
      ],
      "text/plain": [
       "                  count      mean       std  min  25%  50%  75%  max\n",
       "Insurance_Type                                                      \n",
       "government       1781.0  0.050533  0.219104  0.0  0.0  0.0  0.0  1.0\n",
       "medicaid         5781.0  0.065906  0.248138  0.0  0.0  0.0  0.0  1.0\n",
       "medicare        28157.0  0.138651  0.345588  0.0  0.0  0.0  0.0  1.0\n",
       "private         22534.0  0.061330  0.239939  0.0  0.0  0.0  0.0  1.0\n",
       "self pay          610.0  0.155738  0.362904  0.0  0.0  0.0  0.0  1.0"
      ]
     },
     "execution_count": 13,
     "metadata": {},
     "output_type": "execute_result"
    }
   ],
   "source": [
    "# fu.groupby(\"Death_1\")[\"Insurance_Type\"].describe()\n",
    "fu.groupby(\"Insurance_Type\")[\"Death_1\"].describe()"
   ]
  },
  {
   "cell_type": "code",
   "execution_count": 24,
   "metadata": {},
   "outputs": [
    {
     "data": {
      "text/plain": [
       "Text(0.5, 1.0, 'Deaths vs Admission Type')"
      ]
     },
     "execution_count": 24,
     "metadata": {},
     "output_type": "execute_result"
    },
    {
     "data": {
      "image/png": "[encoded data removed]",
      "text/plain": [
       "<Figure size 432x288 with 1 Axes>"
      ]
     },
     "metadata": {
      "needs_background": "light"
     },
     "output_type": "display_data"
    }
   ],
   "source": [
    "# ax = fu.plot()\n",
    "# ax.set_index(\"Insurance_Type\")\n",
    "b = fu.groupby(\"Insurance_Type\")[\"Death_1\"].count()\n",
    "c = b.plot.bar()\n",
    "c.set_xlabel(\"Insurance Type\")\n",
    "c.set_ylabel(\"Deaths\")\n",
    "c.set_title(\"Deaths vs Admission Type\")"
   ]
  },
  {
   "cell_type": "code",
   "execution_count": 42,
   "metadata": {},
   "outputs": [
    {
     "data": {
      "text/plain": [
       "[<matplotlib.lines.Line2D at 0x7f273f257a50>]"
      ]
     },
     "execution_count": 42,
     "metadata": {},
     "output_type": "execute_result"
    },
    {
     "data": {
      "image/png": "[encoded data removed]",
      "text/plain": [
       "<Figure size 432x288 with 1 Axes>"
      ]
     },
     "metadata": {
      "needs_background": "light"
     },
     "output_type": "display_data"
    },
    {
     "data": {
      "image/png": "[encoded data removed]",
      "text/plain": [
       "<Figure size 432x288 with 1 Axes>"
      ]
     },
     "metadata": {
      "needs_background": "light"
     },
     "output_type": "display_data"
    },
    {
     "data": {
      "image/png": "[encoded data removed]",
      "text/plain": [
       "<Figure size 432x288 with 1 Axes>"
      ]
     },
     "metadata": {
      "needs_background": "light"
     },
     "output_type": "display_data"
    }
   ],
   "source": [
    "x = np.linspace(0, 10)\n",
    "y1 = np.cos(x)\n",
    "y2 = np.cos(x + 1)\n",
    "y3 = np.cos(x + 2)\n",
    "names = ['Signal 1', 'Signal 2', 'Signal 3']\n",
    "f1 = matplotlib.pyplot.figure(1)\n",
    "matplotlib.pyplot.plot(x, y1)\n",
    "f2 = matplotlib.pyplot.figure(2)\n",
    "matplotlib.pyplot.plot(x, y2)\n",
    "f2 = matplotlib.pyplot.figure(3)\n",
    "matplotlib.pyplot.plot(x, y3)"
   ]
  }
 ],
 "metadata": {
  "kernelspec": {
   "display_name": "VM",
   "language": "python",
   "name": "vm"
  },
  "language_info": {
   "codemirror_mode": {
    "name": "ipython",
    "version": 3
   },
   "file_extension": ".py",
   "mimetype": "text/x-python",
   "name": "python",
   "nbconvert_exporter": "python",
   "pygments_lexer": "ipython3",
   "version": "3.7.4"
  }
 },
 "nbformat": 4,
 "nbformat_minor": 2
}
